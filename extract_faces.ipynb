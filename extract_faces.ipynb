{
 "cells": [
  {
   "cell_type": "code",
   "execution_count": 3,
   "metadata": {},
   "outputs": [],
   "source": [
    "import cv2\n",
    "import glob\n",
    "\n",
    "face_cascade = cv2.CascadeClassifier('C:/Project/haarcascade_frontalface_default.xml')\n",
    "\n",
    "# select the path\n",
    "path = \"C:/Project/img_align_celeba/*.*\"\n",
    "img_number = 1  # Start an iterator for image number.\n",
    "\n",
    "for file in glob.glob(path):\n",
    "       # just stop here to see all file names printed\n",
    "    img = cv2.imread(file, 1)  # now, we can read each file since we have the full path\n",
    "    gray = cv2.cvtColor(img, cv2.COLOR_BGR2GRAY)\n",
    "    faces = face_cascade.detectMultiScale(gray, 1.3, 5)\n",
    "    try:\n",
    "        for (x, y, w, h) in faces:\n",
    "            roi_color = img[y:y+h, x:x+w]\n",
    "            resized = cv2.resize(roi_color, (128, 128))\n",
    "            cv2.imwrite(\"faces/\" + str(img_number) + \".jpg\", resized)\n",
    "            img_number += 1\n",
    "    except:\n",
    "        print(\"No faces detected\")\n"
   ]
  }
 ],
 "metadata": {
  "kernelspec": {
   "display_name": "Python 3",
   "language": "python",
   "name": "python3"
  },
  "language_info": {
   "codemirror_mode": {
    "name": "ipython",
    "version": 3
   },
   "file_extension": ".py",
   "mimetype": "text/x-python",
   "name": "python",
   "nbconvert_exporter": "python",
   "pygments_lexer": "ipython3",
   "version": "3.10.6"
  }
 },
 "nbformat": 4,
 "nbformat_minor": 2
}
